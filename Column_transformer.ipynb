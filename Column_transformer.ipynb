{
 "cells": [
  {
   "cell_type": "markdown",
   "id": "d70fb6a4-5e4f-4380-8b3d-5ed2320bab4d",
   "metadata": {},
   "source": [
    "# Column Transformer\n",
    "- Sometimes different columns in your data, require different king of tranformations.\n",
    "- Like one columns need missing value handling, other requires ohe, one reuires lable encofing, other requores ordinal encoding.\n",
    "- Doing all these separately and combining them after is very tedious. We can do all this in one line using colum"
   ]
  },
  {
   "cell_type": "markdown",
   "id": "ca10bfc8-b4a6-4e83-afae-a7864afd3b5a",
   "metadata": {},
   "source": [
    "## Data collection"
   ]
  },
  {
   "cell_type": "code",
   "execution_count": 15,
   "id": "67c77f4a-bc3f-4a00-b865-d725e0e313be",
   "metadata": {},
   "outputs": [],
   "source": [
    "import pandas as pd\n",
    "import numpy as np"
   ]
  },
  {
   "cell_type": "code",
   "execution_count": 16,
   "id": "725b0c6d-028a-422e-a263-44e874604ecb",
   "metadata": {},
   "outputs": [],
   "source": [
    "df = pd.read_csv('../Datasets/covid_toy.csv')"
   ]
  },
  {
   "cell_type": "code",
   "execution_count": 17,
   "id": "18cb97c6-1482-4f16-895e-f0559ae3ca1d",
   "metadata": {},
   "outputs": [
    {
     "data": {
      "text/html": [
       "<div>\n",
       "<style scoped>\n",
       "    .dataframe tbody tr th:only-of-type {\n",
       "        vertical-align: middle;\n",
       "    }\n",
       "\n",
       "    .dataframe tbody tr th {\n",
       "        vertical-align: top;\n",
       "    }\n",
       "\n",
       "    .dataframe thead th {\n",
       "        text-align: right;\n",
       "    }\n",
       "</style>\n",
       "<table border=\"1\" class=\"dataframe\">\n",
       "  <thead>\n",
       "    <tr style=\"text-align: right;\">\n",
       "      <th></th>\n",
       "      <th>age</th>\n",
       "      <th>gender</th>\n",
       "      <th>fever</th>\n",
       "      <th>cough</th>\n",
       "      <th>city</th>\n",
       "      <th>has_covid</th>\n",
       "    </tr>\n",
       "  </thead>\n",
       "  <tbody>\n",
       "    <tr>\n",
       "      <th>57</th>\n",
       "      <td>49</td>\n",
       "      <td>Female</td>\n",
       "      <td>99.0</td>\n",
       "      <td>Strong</td>\n",
       "      <td>Bangalore</td>\n",
       "      <td>No</td>\n",
       "    </tr>\n",
       "    <tr>\n",
       "      <th>48</th>\n",
       "      <td>66</td>\n",
       "      <td>Male</td>\n",
       "      <td>99.0</td>\n",
       "      <td>Strong</td>\n",
       "      <td>Bangalore</td>\n",
       "      <td>No</td>\n",
       "    </tr>\n",
       "    <tr>\n",
       "      <th>55</th>\n",
       "      <td>81</td>\n",
       "      <td>Female</td>\n",
       "      <td>101.0</td>\n",
       "      <td>Mild</td>\n",
       "      <td>Mumbai</td>\n",
       "      <td>Yes</td>\n",
       "    </tr>\n",
       "    <tr>\n",
       "      <th>70</th>\n",
       "      <td>68</td>\n",
       "      <td>Female</td>\n",
       "      <td>101.0</td>\n",
       "      <td>Strong</td>\n",
       "      <td>Delhi</td>\n",
       "      <td>No</td>\n",
       "    </tr>\n",
       "    <tr>\n",
       "      <th>16</th>\n",
       "      <td>69</td>\n",
       "      <td>Female</td>\n",
       "      <td>103.0</td>\n",
       "      <td>Mild</td>\n",
       "      <td>Kolkata</td>\n",
       "      <td>Yes</td>\n",
       "    </tr>\n",
       "  </tbody>\n",
       "</table>\n",
       "</div>"
      ],
      "text/plain": [
       "    age  gender  fever   cough       city has_covid\n",
       "57   49  Female   99.0  Strong  Bangalore        No\n",
       "48   66    Male   99.0  Strong  Bangalore        No\n",
       "55   81  Female  101.0    Mild     Mumbai       Yes\n",
       "70   68  Female  101.0  Strong      Delhi        No\n",
       "16   69  Female  103.0    Mild    Kolkata       Yes"
      ]
     },
     "execution_count": 17,
     "metadata": {},
     "output_type": "execute_result"
    }
   ],
   "source": [
    "df.sample(5)"
   ]
  },
  {
   "cell_type": "code",
   "execution_count": 18,
   "id": "0d712e6a-7116-4325-a268-cd33d981c247",
   "metadata": {},
   "outputs": [
    {
     "data": {
      "text/plain": [
       "age           0\n",
       "gender        0\n",
       "fever        10\n",
       "cough         0\n",
       "city          0\n",
       "has_covid     0\n",
       "dtype: int64"
      ]
     },
     "execution_count": 18,
     "metadata": {},
     "output_type": "execute_result"
    }
   ],
   "source": [
    "df.isnull().sum()"
   ]
  },
  {
   "cell_type": "code",
   "execution_count": 19,
   "id": "6075e7e7-1352-4f42-9e56-0bf3d1ec34d3",
   "metadata": {},
   "outputs": [
    {
     "data": {
      "text/plain": [
       "gender\n",
       "Female    59\n",
       "Male      41\n",
       "Name: count, dtype: int64"
      ]
     },
     "execution_count": 19,
     "metadata": {},
     "output_type": "execute_result"
    }
   ],
   "source": [
    "df['gender'].value_counts()"
   ]
  },
  {
   "cell_type": "code",
   "execution_count": 20,
   "id": "091dc09f-6437-4bfb-b223-9cf839361be5",
   "metadata": {},
   "outputs": [
    {
     "data": {
      "text/plain": [
       "cough\n",
       "Mild      62\n",
       "Strong    38\n",
       "Name: count, dtype: int64"
      ]
     },
     "execution_count": 20,
     "metadata": {},
     "output_type": "execute_result"
    }
   ],
   "source": [
    "df['cough'].value_counts()"
   ]
  },
  {
   "cell_type": "code",
   "execution_count": 21,
   "id": "55d1ac21-ab8c-48d2-9380-ab3396630601",
   "metadata": {},
   "outputs": [
    {
     "data": {
      "text/plain": [
       "city\n",
       "Kolkata      32\n",
       "Bangalore    30\n",
       "Delhi        22\n",
       "Mumbai       16\n",
       "Name: count, dtype: int64"
      ]
     },
     "execution_count": 21,
     "metadata": {},
     "output_type": "execute_result"
    }
   ],
   "source": [
    "df['city'].value_counts()"
   ]
  },
  {
   "cell_type": "markdown",
   "id": "179c28f0-f314-469d-869f-909877dc0600",
   "metadata": {},
   "source": [
    "You can see in the above dataset:\n",
    "- 'fever' -> requires handling of missing values\n",
    "- 'city','gender' -> nominal categorical data requires ohe\n",
    "- 'cough' -> ordinal categorical data requires OrdinalEncoding\n",
    "- 'has_covid' -> requires LabelEncoding"
   ]
  },
  {
   "cell_type": "markdown",
   "id": "83800b64-218f-4c6d-ab40-685232457f32",
   "metadata": {},
   "source": [
    "## Showing all transformations individually"
   ]
  },
  {
   "cell_type": "markdown",
   "id": "64f6e615-1dd7-42a0-985a-a1f9413bc96b",
   "metadata": {},
   "source": [
    "### Train Test Split"
   ]
  },
  {
   "cell_type": "code",
   "execution_count": 22,
   "id": "6e2149fd-d8d3-4d16-91dd-0479e58a312d",
   "metadata": {},
   "outputs": [],
   "source": [
    "from sklearn.model_selection import train_test_split"
   ]
  },
  {
   "cell_type": "code",
   "execution_count": 23,
   "id": "b3609c7c-5ebd-42be-b6a6-044e3747561e",
   "metadata": {},
   "outputs": [
    {
     "data": {
      "text/html": [
       "<div>\n",
       "<style scoped>\n",
       "    .dataframe tbody tr th:only-of-type {\n",
       "        vertical-align: middle;\n",
       "    }\n",
       "\n",
       "    .dataframe tbody tr th {\n",
       "        vertical-align: top;\n",
       "    }\n",
       "\n",
       "    .dataframe thead th {\n",
       "        text-align: right;\n",
       "    }\n",
       "</style>\n",
       "<table border=\"1\" class=\"dataframe\">\n",
       "  <thead>\n",
       "    <tr style=\"text-align: right;\">\n",
       "      <th></th>\n",
       "      <th>age</th>\n",
       "      <th>gender</th>\n",
       "      <th>fever</th>\n",
       "      <th>cough</th>\n",
       "      <th>city</th>\n",
       "      <th>has_covid</th>\n",
       "    </tr>\n",
       "  </thead>\n",
       "  <tbody>\n",
       "    <tr>\n",
       "      <th>48</th>\n",
       "      <td>66</td>\n",
       "      <td>Male</td>\n",
       "      <td>99.0</td>\n",
       "      <td>Strong</td>\n",
       "      <td>Bangalore</td>\n",
       "      <td>No</td>\n",
       "    </tr>\n",
       "    <tr>\n",
       "      <th>57</th>\n",
       "      <td>49</td>\n",
       "      <td>Female</td>\n",
       "      <td>99.0</td>\n",
       "      <td>Strong</td>\n",
       "      <td>Bangalore</td>\n",
       "      <td>No</td>\n",
       "    </tr>\n",
       "    <tr>\n",
       "      <th>77</th>\n",
       "      <td>8</td>\n",
       "      <td>Female</td>\n",
       "      <td>101.0</td>\n",
       "      <td>Mild</td>\n",
       "      <td>Kolkata</td>\n",
       "      <td>No</td>\n",
       "    </tr>\n",
       "    <tr>\n",
       "      <th>38</th>\n",
       "      <td>49</td>\n",
       "      <td>Female</td>\n",
       "      <td>101.0</td>\n",
       "      <td>Mild</td>\n",
       "      <td>Delhi</td>\n",
       "      <td>Yes</td>\n",
       "    </tr>\n",
       "    <tr>\n",
       "      <th>85</th>\n",
       "      <td>16</td>\n",
       "      <td>Female</td>\n",
       "      <td>103.0</td>\n",
       "      <td>Mild</td>\n",
       "      <td>Bangalore</td>\n",
       "      <td>Yes</td>\n",
       "    </tr>\n",
       "  </tbody>\n",
       "</table>\n",
       "</div>"
      ],
      "text/plain": [
       "    age  gender  fever   cough       city has_covid\n",
       "48   66    Male   99.0  Strong  Bangalore        No\n",
       "57   49  Female   99.0  Strong  Bangalore        No\n",
       "77    8  Female  101.0    Mild    Kolkata        No\n",
       "38   49  Female  101.0    Mild      Delhi       Yes\n",
       "85   16  Female  103.0    Mild  Bangalore       Yes"
      ]
     },
     "execution_count": 23,
     "metadata": {},
     "output_type": "execute_result"
    }
   ],
   "source": [
    "df.sample(5)"
   ]
  },
  {
   "cell_type": "code",
   "execution_count": 24,
   "id": "acfd7a01-6abf-47f5-b552-73367caa1db2",
   "metadata": {},
   "outputs": [
    {
     "data": {
      "text/plain": [
       "(100, 6)"
      ]
     },
     "execution_count": 24,
     "metadata": {},
     "output_type": "execute_result"
    }
   ],
   "source": [
    "df.shape"
   ]
  },
  {
   "cell_type": "code",
   "execution_count": 25,
   "id": "3c679713-f0a0-4e19-b287-e65c4e4276c2",
   "metadata": {},
   "outputs": [],
   "source": [
    "X_train,X_test,y_train,y_test = train_test_split(df.iloc[:,0:5],df.iloc[:,-1],test_size = 0.2, random_state = 0)"
   ]
  },
  {
   "cell_type": "code",
   "execution_count": 26,
   "id": "8966aba3-12cc-44cc-aca3-ef641537d22b",
   "metadata": {},
   "outputs": [
    {
     "name": "stdout",
     "output_type": "stream",
     "text": [
      "(80, 5) (80,)\n",
      "(20, 5) (20,)\n"
     ]
    }
   ],
   "source": [
    "print(X_train.shape, y_train.shape)\n",
    "print(X_test.shape, y_test.shape)"
   ]
  },
  {
   "cell_type": "markdown",
   "id": "aaa31967-83c7-4d23-8a12-c1a79879ac07",
   "metadata": {},
   "source": [
    "### Handling missing values in 'fever'\n",
    "- using SimpleImputer -> replaces missing values by the mean"
   ]
  },
  {
   "cell_type": "code",
   "execution_count": 27,
   "id": "ae675c06-43ba-47ec-94ae-1ab517ba59b0",
   "metadata": {},
   "outputs": [],
   "source": [
    "from sklearn.impute import SimpleImputer"
   ]
  },
  {
   "cell_type": "code",
   "execution_count": 28,
   "id": "1fdb3b76-d08c-4a26-ac52-7b7b433388c4",
   "metadata": {},
   "outputs": [],
   "source": [
    "si = SimpleImputer()"
   ]
  },
  {
   "cell_type": "code",
   "execution_count": 29,
   "id": "2e803596-c523-421c-93d8-9accd6680dcb",
   "metadata": {},
   "outputs": [],
   "source": [
    "X_train_fever = si.fit_transform(X_train[['fever']])"
   ]
  },
  {
   "cell_type": "code",
   "execution_count": 30,
   "id": "68e3f9f1-860e-4e86-a57a-40854dafe3c6",
   "metadata": {},
   "outputs": [
    {
     "data": {
      "text/plain": [
       "(80, 1)"
      ]
     },
     "execution_count": 30,
     "metadata": {},
     "output_type": "execute_result"
    }
   ],
   "source": [
    "X_train_fever.shape"
   ]
  },
  {
   "cell_type": "code",
   "execution_count": 31,
   "id": "6f87bd64-e4d9-4ed1-8d53-9d466f6f5c57",
   "metadata": {},
   "outputs": [],
   "source": [
    "X_test_fever = si.transform(X_test[['fever']])"
   ]
  },
  {
   "cell_type": "code",
   "execution_count": 32,
   "id": "8d289426-340f-49cd-b793-91c5a825402a",
   "metadata": {},
   "outputs": [
    {
     "data": {
      "text/plain": [
       "(20, 1)"
      ]
     },
     "execution_count": 32,
     "metadata": {},
     "output_type": "execute_result"
    }
   ],
   "source": [
    "X_test_fever.shape"
   ]
  },
  {
   "cell_type": "markdown",
   "id": "dd967632-5343-4138-953b-2c6cd80a64ea",
   "metadata": {},
   "source": [
    "### OHE on 'gender' and 'city'"
   ]
  },
  {
   "cell_type": "code",
   "execution_count": 33,
   "id": "bc1b4289-e229-4942-abea-afdcf5686561",
   "metadata": {},
   "outputs": [],
   "source": [
    "from sklearn.preprocessing import OneHotEncoder"
   ]
  },
  {
   "cell_type": "code",
   "execution_count": 34,
   "id": "e904430d-bcca-4c6d-80df-9d0f47c96965",
   "metadata": {},
   "outputs": [],
   "source": [
    "ohe = OneHotEncoder(drop = 'first',sparse_output = False, dtype = np.int32, )"
   ]
  },
  {
   "cell_type": "code",
   "execution_count": 35,
   "id": "1080c4c0-1895-49d5-bf9a-27c581eeb789",
   "metadata": {},
   "outputs": [],
   "source": [
    "#city -> 4 categories\n",
    "#gender -> 2 categories\n",
    "#after ohe:\n",
    "# city -> 3columns\n",
    "# gender -> 1 column\n",
    "#Hence, 6 categories converted to 4 columns\n",
    "X_train_gender_city = ohe.fit_transform(X_train[['gender','city']])"
   ]
  },
  {
   "cell_type": "code",
   "execution_count": 36,
   "id": "9a0bcaf1-e92a-490a-801a-5b4ac89bee18",
   "metadata": {},
   "outputs": [
    {
     "data": {
      "text/plain": [
       "(80, 4)"
      ]
     },
     "execution_count": 36,
     "metadata": {},
     "output_type": "execute_result"
    }
   ],
   "source": [
    "X_train_gender_city.shape"
   ]
  },
  {
   "cell_type": "code",
   "execution_count": 37,
   "id": "e00c911f-6a04-42c4-916b-769315733333",
   "metadata": {},
   "outputs": [],
   "source": [
    "X_test_gender_city = ohe.transform(X_test[['gender','city']])"
   ]
  },
  {
   "cell_type": "code",
   "execution_count": 38,
   "id": "49e90895-b0da-44b4-95ca-31b142e87682",
   "metadata": {},
   "outputs": [
    {
     "data": {
      "text/plain": [
       "(20, 4)"
      ]
     },
     "execution_count": 38,
     "metadata": {},
     "output_type": "execute_result"
    }
   ],
   "source": [
    "X_test_gender_city.shape"
   ]
  },
  {
   "cell_type": "markdown",
   "id": "d925cc28-5b7b-47a2-9465-573630cb0de1",
   "metadata": {},
   "source": [
    "## Ordinal Encoding on 'cough'"
   ]
  },
  {
   "cell_type": "code",
   "execution_count": 39,
   "id": "ec9f8efc-9368-4ee3-b1d9-3a9c8bec8e92",
   "metadata": {},
   "outputs": [],
   "source": [
    "from sklearn.preprocessing import OrdinalEncoder"
   ]
  },
  {
   "cell_type": "code",
   "execution_count": 40,
   "id": "97974068-5cda-4706-9646-61e2a292644d",
   "metadata": {},
   "outputs": [],
   "source": [
    "oe = OrdinalEncoder(categories = [['Mild','Strong']])"
   ]
  },
  {
   "cell_type": "code",
   "execution_count": 41,
   "id": "fb13d16b-979a-40a8-8d75-5dec93e7d5e6",
   "metadata": {},
   "outputs": [],
   "source": [
    "X_train_cough = oe.fit_transform(X_train[['cough']])"
   ]
  },
  {
   "cell_type": "code",
   "execution_count": 42,
   "id": "d17dc06c-f86d-4477-b62d-13bd4ebb3300",
   "metadata": {},
   "outputs": [
    {
     "data": {
      "text/plain": [
       "(80, 1)"
      ]
     },
     "execution_count": 42,
     "metadata": {},
     "output_type": "execute_result"
    }
   ],
   "source": [
    "X_train_cough.shape"
   ]
  },
  {
   "cell_type": "code",
   "execution_count": 43,
   "id": "b1997cae-0221-425f-850c-e9e2f0e03259",
   "metadata": {},
   "outputs": [],
   "source": [
    "X_test_cough = oe.transform(X_test[['cough']])"
   ]
  },
  {
   "cell_type": "code",
   "execution_count": 44,
   "id": "99ea9d0a-4b76-4fb0-97d2-24e2fda03229",
   "metadata": {},
   "outputs": [
    {
     "data": {
      "text/plain": [
       "(20, 1)"
      ]
     },
     "execution_count": 44,
     "metadata": {},
     "output_type": "execute_result"
    }
   ],
   "source": [
    "X_test_cough.shape"
   ]
  },
  {
   "cell_type": "markdown",
   "id": "fccfd7d5-ca74-40ae-912b-c204635eaa92",
   "metadata": {},
   "source": [
    "## Label Encoding on 'has_covid'"
   ]
  },
  {
   "cell_type": "code",
   "execution_count": 45,
   "id": "0a7c5bcc-cfdb-452e-9764-fbdf3ecc93b5",
   "metadata": {},
   "outputs": [],
   "source": [
    "from sklearn.preprocessing import LabelEncoder"
   ]
  },
  {
   "cell_type": "code",
   "execution_count": 46,
   "id": "f30a5cb3-c35f-4db3-a409-61a33cc0b962",
   "metadata": {},
   "outputs": [],
   "source": [
    "le = LabelEncoder()"
   ]
  },
  {
   "cell_type": "code",
   "execution_count": 47,
   "id": "d9a3961f-6c51-4172-8a27-476c2d95346d",
   "metadata": {},
   "outputs": [],
   "source": [
    "y_train_has_covid = le.fit_transform(y_train)"
   ]
  },
  {
   "cell_type": "code",
   "execution_count": 48,
   "id": "a5bdbaf5-a9bd-4eee-b07a-4be9a5205211",
   "metadata": {},
   "outputs": [
    {
     "data": {
      "text/plain": [
       "(80,)"
      ]
     },
     "execution_count": 48,
     "metadata": {},
     "output_type": "execute_result"
    }
   ],
   "source": [
    "y_train_has_covid.shape"
   ]
  },
  {
   "cell_type": "code",
   "execution_count": 49,
   "id": "a7d21ef0-ad41-497f-ba1c-693432f5a1b4",
   "metadata": {},
   "outputs": [],
   "source": [
    "y_test_has_covid = le.fit_transform(y_test)"
   ]
  },
  {
   "cell_type": "code",
   "execution_count": 50,
   "id": "195e6ab4-44ae-4e77-b24e-f9b1a6777181",
   "metadata": {},
   "outputs": [
    {
     "data": {
      "text/plain": [
       "(20,)"
      ]
     },
     "execution_count": 50,
     "metadata": {},
     "output_type": "execute_result"
    }
   ],
   "source": [
    "y_test_has_covid.shape"
   ]
  },
  {
   "cell_type": "markdown",
   "id": "1deec092-6711-42e1-9a11-78668cefd211",
   "metadata": {},
   "source": [
    "## Concating everything"
   ]
  },
  {
   "cell_type": "code",
   "execution_count": 51,
   "id": "fb068c34-066a-4e87-a87f-ef2d09c54e82",
   "metadata": {},
   "outputs": [
    {
     "data": {
      "text/plain": [
       "array([[ 99.        ],\n",
       "       [104.        ],\n",
       "       [ 98.        ],\n",
       "       [104.        ],\n",
       "       [ 99.        ],\n",
       "       [ 99.        ],\n",
       "       [101.        ],\n",
       "       [ 98.        ],\n",
       "       [ 98.        ],\n",
       "       [100.        ],\n",
       "       [102.        ],\n",
       "       [ 99.        ],\n",
       "       [ 99.        ],\n",
       "       [104.        ],\n",
       "       [100.        ],\n",
       "       [102.        ],\n",
       "       [ 98.        ],\n",
       "       [100.91549296],\n",
       "       [100.        ],\n",
       "       [104.        ],\n",
       "       [100.        ],\n",
       "       [ 98.        ],\n",
       "       [100.        ],\n",
       "       [100.91549296],\n",
       "       [101.        ],\n",
       "       [103.        ],\n",
       "       [ 98.        ],\n",
       "       [102.        ],\n",
       "       [101.        ],\n",
       "       [100.91549296],\n",
       "       [100.91549296],\n",
       "       [104.        ],\n",
       "       [103.        ],\n",
       "       [102.        ],\n",
       "       [104.        ],\n",
       "       [101.        ],\n",
       "       [ 98.        ],\n",
       "       [102.        ],\n",
       "       [ 98.        ],\n",
       "       [100.        ],\n",
       "       [100.91549296],\n",
       "       [103.        ],\n",
       "       [104.        ],\n",
       "       [ 99.        ],\n",
       "       [103.        ],\n",
       "       [103.        ],\n",
       "       [101.        ],\n",
       "       [ 98.        ],\n",
       "       [104.        ],\n",
       "       [103.        ],\n",
       "       [100.91549296],\n",
       "       [100.91549296],\n",
       "       [104.        ],\n",
       "       [101.        ],\n",
       "       [ 98.        ],\n",
       "       [103.        ],\n",
       "       [ 98.        ],\n",
       "       [100.91549296],\n",
       "       [101.        ],\n",
       "       [101.        ],\n",
       "       [100.91549296],\n",
       "       [100.        ],\n",
       "       [ 99.        ],\n",
       "       [101.        ],\n",
       "       [103.        ],\n",
       "       [102.        ],\n",
       "       [ 98.        ],\n",
       "       [ 99.        ],\n",
       "       [100.        ],\n",
       "       [101.        ],\n",
       "       [101.        ],\n",
       "       [101.        ],\n",
       "       [ 98.        ],\n",
       "       [104.        ],\n",
       "       [101.        ],\n",
       "       [101.        ],\n",
       "       [ 99.        ],\n",
       "       [104.        ],\n",
       "       [104.        ],\n",
       "       [102.        ]])"
      ]
     },
     "execution_count": 51,
     "metadata": {},
     "output_type": "execute_result"
    }
   ],
   "source": [
    "X_train_fever"
   ]
  },
  {
   "cell_type": "code",
   "execution_count": 52,
   "id": "e395c3fd-d586-465c-b7b2-f6cc89271f13",
   "metadata": {},
   "outputs": [
    {
     "data": {
      "text/plain": [
       "array([[0.],\n",
       "       [1.],\n",
       "       [0.],\n",
       "       [1.],\n",
       "       [0.],\n",
       "       [1.],\n",
       "       [1.],\n",
       "       [1.],\n",
       "       [0.],\n",
       "       [0.],\n",
       "       [1.],\n",
       "       [0.],\n",
       "       [1.],\n",
       "       [1.],\n",
       "       [1.],\n",
       "       [1.],\n",
       "       [0.],\n",
       "       [1.],\n",
       "       [0.],\n",
       "       [1.],\n",
       "       [0.],\n",
       "       [1.],\n",
       "       [0.],\n",
       "       [0.],\n",
       "       [0.],\n",
       "       [1.],\n",
       "       [1.],\n",
       "       [0.],\n",
       "       [0.],\n",
       "       [0.],\n",
       "       [0.],\n",
       "       [0.],\n",
       "       [0.],\n",
       "       [0.],\n",
       "       [0.],\n",
       "       [0.],\n",
       "       [0.],\n",
       "       [1.],\n",
       "       [0.],\n",
       "       [1.],\n",
       "       [0.],\n",
       "       [0.],\n",
       "       [0.],\n",
       "       [1.],\n",
       "       [0.],\n",
       "       [0.],\n",
       "       [1.],\n",
       "       [1.],\n",
       "       [0.],\n",
       "       [1.],\n",
       "       [1.],\n",
       "       [1.],\n",
       "       [0.],\n",
       "       [0.],\n",
       "       [1.],\n",
       "       [0.],\n",
       "       [1.],\n",
       "       [1.],\n",
       "       [0.],\n",
       "       [0.],\n",
       "       [0.],\n",
       "       [0.],\n",
       "       [0.],\n",
       "       [0.],\n",
       "       [0.],\n",
       "       [0.],\n",
       "       [1.],\n",
       "       [1.],\n",
       "       [0.],\n",
       "       [1.],\n",
       "       [1.],\n",
       "       [0.],\n",
       "       [0.],\n",
       "       [0.],\n",
       "       [0.],\n",
       "       [1.],\n",
       "       [0.],\n",
       "       [0.],\n",
       "       [0.],\n",
       "       [1.]])"
      ]
     },
     "execution_count": 52,
     "metadata": {},
     "output_type": "execute_result"
    }
   ],
   "source": [
    "X_train_cough"
   ]
  },
  {
   "cell_type": "code",
   "execution_count": 53,
   "id": "8c6f4f04-ef53-41b0-9b07-b60e291642d3",
   "metadata": {},
   "outputs": [
    {
     "data": {
      "text/plain": [
       "array([[0, 0, 0, 0],\n",
       "       [0, 0, 0, 0],\n",
       "       [0, 0, 1, 0],\n",
       "       [0, 1, 0, 0],\n",
       "       [1, 0, 0, 0],\n",
       "       [1, 0, 0, 0],\n",
       "       [1, 0, 0, 0],\n",
       "       [0, 0, 1, 0],\n",
       "       [1, 0, 1, 0],\n",
       "       [1, 0, 0, 0],\n",
       "       [0, 0, 0, 0],\n",
       "       [0, 0, 0, 1],\n",
       "       [0, 1, 0, 0],\n",
       "       [0, 0, 1, 0],\n",
       "       [0, 0, 1, 0],\n",
       "       [0, 1, 0, 0],\n",
       "       [0, 0, 0, 0],\n",
       "       [1, 0, 1, 0],\n",
       "       [1, 0, 0, 0],\n",
       "       [0, 1, 0, 0],\n",
       "       [1, 1, 0, 0],\n",
       "       [0, 0, 0, 1],\n",
       "       [1, 1, 0, 0],\n",
       "       [1, 0, 1, 0],\n",
       "       [0, 0, 0, 1],\n",
       "       [1, 0, 1, 0],\n",
       "       [0, 1, 0, 0],\n",
       "       [0, 1, 0, 0],\n",
       "       [0, 1, 0, 0],\n",
       "       [0, 0, 0, 0],\n",
       "       [1, 1, 0, 0],\n",
       "       [0, 0, 1, 0],\n",
       "       [1, 0, 1, 0],\n",
       "       [1, 0, 0, 1],\n",
       "       [1, 0, 1, 0],\n",
       "       [1, 1, 0, 0],\n",
       "       [0, 0, 0, 1],\n",
       "       [0, 0, 0, 0],\n",
       "       [0, 1, 0, 0],\n",
       "       [0, 0, 0, 0],\n",
       "       [0, 1, 0, 0],\n",
       "       [1, 0, 1, 0],\n",
       "       [1, 0, 1, 0],\n",
       "       [0, 0, 0, 0],\n",
       "       [0, 0, 1, 0],\n",
       "       [0, 0, 0, 0],\n",
       "       [0, 1, 0, 0],\n",
       "       [0, 0, 0, 1],\n",
       "       [1, 0, 0, 0],\n",
       "       [1, 0, 0, 0],\n",
       "       [0, 0, 0, 0],\n",
       "       [0, 0, 0, 1],\n",
       "       [1, 0, 0, 1],\n",
       "       [0, 0, 0, 0],\n",
       "       [0, 0, 0, 1],\n",
       "       [0, 1, 0, 0],\n",
       "       [1, 0, 0, 0],\n",
       "       [1, 0, 1, 0],\n",
       "       [0, 0, 1, 0],\n",
       "       [0, 0, 1, 0],\n",
       "       [1, 0, 0, 1],\n",
       "       [1, 0, 1, 0],\n",
       "       [1, 1, 0, 0],\n",
       "       [0, 0, 0, 1],\n",
       "       [0, 0, 1, 0],\n",
       "       [0, 0, 0, 0],\n",
       "       [1, 0, 0, 1],\n",
       "       [0, 0, 1, 0],\n",
       "       [0, 0, 1, 0],\n",
       "       [0, 1, 0, 0],\n",
       "       [1, 0, 0, 0],\n",
       "       [0, 0, 0, 0],\n",
       "       [1, 0, 0, 0],\n",
       "       [0, 0, 1, 0],\n",
       "       [0, 1, 0, 0],\n",
       "       [0, 0, 1, 0],\n",
       "       [1, 0, 0, 0],\n",
       "       [1, 0, 0, 1],\n",
       "       [0, 0, 0, 0],\n",
       "       [1, 1, 0, 0]], dtype=int32)"
      ]
     },
     "execution_count": 53,
     "metadata": {},
     "output_type": "execute_result"
    }
   ],
   "source": [
    "X_train_gender_city"
   ]
  },
  {
   "cell_type": "markdown",
   "id": "b314bde7-89e2-4cf4-a0c1-e2e5e2241360",
   "metadata": {},
   "source": [
    "- Note: Everything is in array\n",
    "- We want the original age column also in the final df.\n",
    "- So first convert age column to an array"
   ]
  },
  {
   "cell_type": "code",
   "execution_count": 54,
   "id": "ff9e116e-41d7-450f-a58b-e922b3e048e6",
   "metadata": {},
   "outputs": [],
   "source": [
    "X_train_age = X_train.drop(columns = ['gender','city','fever','cough']).values"
   ]
  },
  {
   "cell_type": "code",
   "execution_count": 55,
   "id": "890bfa63-6f52-4ad5-8fa2-23cc243e073e",
   "metadata": {},
   "outputs": [
    {
     "data": {
      "text/plain": [
       "(80, 1)"
      ]
     },
     "execution_count": 55,
     "metadata": {},
     "output_type": "execute_result"
    }
   ],
   "source": [
    "X_train_age.shape"
   ]
  },
  {
   "cell_type": "code",
   "execution_count": 56,
   "id": "c5a9507a-df78-4759-a806-4ff5d06cf2be",
   "metadata": {},
   "outputs": [],
   "source": [
    "X_test_age = X_test.drop(columns = ['gender','city','fever','cough']).values"
   ]
  },
  {
   "cell_type": "code",
   "execution_count": 57,
   "id": "8ddf3348-8f59-4425-b940-c0fd650e43c3",
   "metadata": {},
   "outputs": [
    {
     "data": {
      "text/plain": [
       "(20, 1)"
      ]
     },
     "execution_count": 57,
     "metadata": {},
     "output_type": "execute_result"
    }
   ],
   "source": [
    "X_test_age.shape"
   ]
  },
  {
   "cell_type": "code",
   "execution_count": 58,
   "id": "a7a2784a-0108-4a59-be4e-9439800e79bd",
   "metadata": {},
   "outputs": [],
   "source": [
    "X_train_transformed = np.concatenate((X_train_age,X_train_fever,X_train_gender_city,X_train_cough),axis = 1)"
   ]
  },
  {
   "cell_type": "code",
   "execution_count": 59,
   "id": "50a9d4f2-14f1-46c1-ab36-e733091b6a58",
   "metadata": {},
   "outputs": [
    {
     "data": {
      "text/plain": [
       "(80, 7)"
      ]
     },
     "execution_count": 59,
     "metadata": {},
     "output_type": "execute_result"
    }
   ],
   "source": [
    "#columns should be -> 1 age, 1 fever, 1 gender, 3 city 1 cough = 7\n",
    "X_train_transformed.shape"
   ]
  },
  {
   "cell_type": "code",
   "execution_count": 60,
   "id": "e74a6e78-b164-4fab-aab1-5f5f5e0fd8c6",
   "metadata": {},
   "outputs": [],
   "source": [
    "X_test_transformed = np.concatenate((X_test_age,X_test_fever,X_test_gender_city,X_test_cough),axis = 1)"
   ]
  },
  {
   "cell_type": "code",
   "execution_count": 61,
   "id": "4531c160-78c0-4479-a667-2cba2d8b2f22",
   "metadata": {},
   "outputs": [
    {
     "data": {
      "text/plain": [
       "(20, 7)"
      ]
     },
     "execution_count": 61,
     "metadata": {},
     "output_type": "execute_result"
    }
   ],
   "source": [
    "X_test_transformed.shape"
   ]
  },
  {
   "cell_type": "markdown",
   "id": "711ea5d4-a0fa-4ed4-910e-debe45a2d13b",
   "metadata": {},
   "source": [
    "## Using Column Transfromer"
   ]
  },
  {
   "cell_type": "code",
   "execution_count": 62,
   "id": "0bfbaf71-0d17-4d85-ae26-ef9c17b12a28",
   "metadata": {},
   "outputs": [],
   "source": [
    "from sklearn.compose import ColumnTransformer"
   ]
  },
  {
   "cell_type": "markdown",
   "id": "8e7851bf-a093-49a2-ad12-7cd3bf77a28d",
   "metadata": {},
   "source": [
    "**Note:**\n",
    "- Columns transformer takes the following arguments\n",
    "- transformers = [('name_of_transformer','function_to_implement',['column_name'])]\n",
    "- remainder -> takes two values 'passthorugh' -> which means the rest column will remain as it is and 'drop' -> drops the rest columns"
   ]
  },
  {
   "cell_type": "code",
   "execution_count": 63,
   "id": "a825979a-105e-40b3-9c1d-cd09253cd772",
   "metadata": {},
   "outputs": [],
   "source": [
    "transformer = ColumnTransformer(transformers = [('tf1',SimpleImputer(),['fever']),\n",
    "                                                ('tf2',OneHotEncoder(sparse_output = False,drop = 'first',dtype = np.int32),['gender','city']),\n",
    "                                                ('tf3',OrdinalEncoder(categories = [['Mild','Strong']]),['cough'])],\n",
    "                                remainder = 'passthrough')"
   ]
  },
  {
   "cell_type": "code",
   "execution_count": 64,
   "id": "05bcec93-0cee-4814-be41-c75c74dbff54",
   "metadata": {},
   "outputs": [],
   "source": [
    "X_train_transformed_new = transformer.fit_transform(X_train)"
   ]
  },
  {
   "cell_type": "code",
   "execution_count": 65,
   "id": "3be9f0c6-cd56-4911-a7ff-bd2a10434b13",
   "metadata": {},
   "outputs": [
    {
     "data": {
      "text/plain": [
       "(80, 7)"
      ]
     },
     "execution_count": 65,
     "metadata": {},
     "output_type": "execute_result"
    }
   ],
   "source": [
    "X_train_transformed_new.shape"
   ]
  },
  {
   "cell_type": "code",
   "execution_count": 66,
   "id": "657c3ece-7599-41e6-ac5d-3a963e649964",
   "metadata": {},
   "outputs": [],
   "source": [
    "X_test_transformed_new = transformer.fit_transform(X_test)"
   ]
  },
  {
   "cell_type": "code",
   "execution_count": 67,
   "id": "d32f182a-dc88-49c2-895d-e4568d387206",
   "metadata": {},
   "outputs": [
    {
     "data": {
      "text/plain": [
       "(20, 7)"
      ]
     },
     "execution_count": 67,
     "metadata": {},
     "output_type": "execute_result"
    }
   ],
   "source": [
    "X_test_transformed_new.shape"
   ]
  },
  {
   "cell_type": "code",
   "execution_count": null,
   "id": "d819422c-78c4-44bf-be5a-ace21c00822d",
   "metadata": {},
   "outputs": [],
   "source": []
  }
 ],
 "metadata": {
  "kernelspec": {
   "display_name": "Python 3 (ipykernel)",
   "language": "python",
   "name": "python3"
  },
  "language_info": {
   "codemirror_mode": {
    "name": "ipython",
    "version": 3
   },
   "file_extension": ".py",
   "mimetype": "text/x-python",
   "name": "python",
   "nbconvert_exporter": "python",
   "pygments_lexer": "ipython3",
   "version": "3.11.7"
  }
 },
 "nbformat": 4,
 "nbformat_minor": 5
}

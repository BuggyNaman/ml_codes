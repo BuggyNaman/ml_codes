{
 "cells": [
  {
   "cell_type": "code",
   "execution_count": 7,
   "id": "fff8bd86-2aca-4297-b424-1e618ece0577",
   "metadata": {},
   "outputs": [],
   "source": [
    "import pandas as pd"
   ]
  },
  {
   "cell_type": "code",
   "execution_count": 8,
   "id": "dfcc5140-2b7f-464a-894b-6d42b553deb6",
   "metadata": {},
   "outputs": [],
   "source": [
    "df = pd.read_csv('../Datasets/coursea_data.csv')"
   ]
  },
  {
   "cell_type": "code",
   "execution_count": 9,
   "id": "0d22309a-e74c-4092-9e86-80984202fffa",
   "metadata": {},
   "outputs": [
    {
     "data": {
      "text/plain": [
       "(891, 7)"
      ]
     },
     "execution_count": 9,
     "metadata": {},
     "output_type": "execute_result"
    }
   ],
   "source": [
    "df.shape"
   ]
  },
  {
   "cell_type": "code",
   "execution_count": 10,
   "id": "14475a83-f1be-4085-96d1-8eea56046049",
   "metadata": {},
   "outputs": [
    {
     "name": "stdout",
     "output_type": "stream",
     "text": [
      "<class 'pandas.core.frame.DataFrame'>\n",
      "RangeIndex: 891 entries, 0 to 890\n",
      "Data columns (total 7 columns):\n",
      " #   Column                    Non-Null Count  Dtype  \n",
      "---  ------                    --------------  -----  \n",
      " 0   Unnamed: 0                891 non-null    int64  \n",
      " 1   course_title              891 non-null    object \n",
      " 2   course_organization       891 non-null    object \n",
      " 3   course_Certificate_type   891 non-null    object \n",
      " 4   course_rating             891 non-null    float64\n",
      " 5   course_difficulty         891 non-null    object \n",
      " 6   course_students_enrolled  891 non-null    object \n",
      "dtypes: float64(1), int64(1), object(5)\n",
      "memory usage: 48.9+ KB\n"
     ]
    }
   ],
   "source": [
    "df.info()"
   ]
  },
  {
   "cell_type": "code",
   "execution_count": 11,
   "id": "bfd9297c-c5e6-4ff8-b038-8d3252967907",
   "metadata": {},
   "outputs": [
    {
     "data": {
      "text/plain": [
       "Unnamed: 0                  0\n",
       "course_title                0\n",
       "course_organization         0\n",
       "course_Certificate_type     0\n",
       "course_rating               0\n",
       "course_difficulty           0\n",
       "course_students_enrolled    0\n",
       "dtype: int64"
      ]
     },
     "execution_count": 11,
     "metadata": {},
     "output_type": "execute_result"
    }
   ],
   "source": [
    "df.isnull().sum()"
   ]
  },
  {
   "cell_type": "code",
   "execution_count": 12,
   "id": "799ca126-3f2c-4f2b-a602-43a5a9138dfb",
   "metadata": {},
   "outputs": [
    {
     "data": {
      "text/html": [
       "<div>\n",
       "<style scoped>\n",
       "    .dataframe tbody tr th:only-of-type {\n",
       "        vertical-align: middle;\n",
       "    }\n",
       "\n",
       "    .dataframe tbody tr th {\n",
       "        vertical-align: top;\n",
       "    }\n",
       "\n",
       "    .dataframe thead th {\n",
       "        text-align: right;\n",
       "    }\n",
       "</style>\n",
       "<table border=\"1\" class=\"dataframe\">\n",
       "  <thead>\n",
       "    <tr style=\"text-align: right;\">\n",
       "      <th></th>\n",
       "      <th>Unnamed: 0</th>\n",
       "      <th>course_title</th>\n",
       "      <th>course_organization</th>\n",
       "      <th>course_Certificate_type</th>\n",
       "      <th>course_rating</th>\n",
       "      <th>course_difficulty</th>\n",
       "      <th>course_students_enrolled</th>\n",
       "    </tr>\n",
       "  </thead>\n",
       "  <tbody>\n",
       "    <tr>\n",
       "      <th>650</th>\n",
       "      <td>665</td>\n",
       "      <td>Perfect Tenses and Modals</td>\n",
       "      <td>University of California, Irvine</td>\n",
       "      <td>COURSE</td>\n",
       "      <td>4.7</td>\n",
       "      <td>Intermediate</td>\n",
       "      <td>79k</td>\n",
       "    </tr>\n",
       "    <tr>\n",
       "      <th>662</th>\n",
       "      <td>692</td>\n",
       "      <td>Practical Time Series Analysis</td>\n",
       "      <td>The State University of New York</td>\n",
       "      <td>COURSE</td>\n",
       "      <td>4.6</td>\n",
       "      <td>Intermediate</td>\n",
       "      <td>39k</td>\n",
       "    </tr>\n",
       "    <tr>\n",
       "      <th>800</th>\n",
       "      <td>243</td>\n",
       "      <td>The Data Scientist’s Toolbox</td>\n",
       "      <td>Johns Hopkins University</td>\n",
       "      <td>COURSE</td>\n",
       "      <td>4.6</td>\n",
       "      <td>Mixed</td>\n",
       "      <td>420k</td>\n",
       "    </tr>\n",
       "    <tr>\n",
       "      <th>778</th>\n",
       "      <td>484</td>\n",
       "      <td>Systems Biology and Biotechnology</td>\n",
       "      <td>Icahn School of Medicine at Mount Sinai</td>\n",
       "      <td>SPECIALIZATION</td>\n",
       "      <td>4.4</td>\n",
       "      <td>Intermediate</td>\n",
       "      <td>48k</td>\n",
       "    </tr>\n",
       "    <tr>\n",
       "      <th>542</th>\n",
       "      <td>577</td>\n",
       "      <td>Leadership in 21st Century Organizations</td>\n",
       "      <td>Copenhagen Business School</td>\n",
       "      <td>COURSE</td>\n",
       "      <td>4.7</td>\n",
       "      <td>Mixed</td>\n",
       "      <td>34k</td>\n",
       "    </tr>\n",
       "  </tbody>\n",
       "</table>\n",
       "</div>"
      ],
      "text/plain": [
       "     Unnamed: 0                              course_title  \\\n",
       "650         665                 Perfect Tenses and Modals   \n",
       "662         692            Practical Time Series Analysis   \n",
       "800         243              The Data Scientist’s Toolbox   \n",
       "778         484         Systems Biology and Biotechnology   \n",
       "542         577  Leadership in 21st Century Organizations   \n",
       "\n",
       "                         course_organization course_Certificate_type  \\\n",
       "650         University of California, Irvine                  COURSE   \n",
       "662         The State University of New York                  COURSE   \n",
       "800                 Johns Hopkins University                  COURSE   \n",
       "778  Icahn School of Medicine at Mount Sinai          SPECIALIZATION   \n",
       "542               Copenhagen Business School                  COURSE   \n",
       "\n",
       "     course_rating course_difficulty course_students_enrolled  \n",
       "650            4.7      Intermediate                      79k  \n",
       "662            4.6      Intermediate                      39k  \n",
       "800            4.6             Mixed                     420k  \n",
       "778            4.4      Intermediate                      48k  \n",
       "542            4.7             Mixed                      34k  "
      ]
     },
     "execution_count": 12,
     "metadata": {},
     "output_type": "execute_result"
    }
   ],
   "source": [
    "df.sample(5)"
   ]
  },
  {
   "cell_type": "code",
   "execution_count": 13,
   "id": "bee0ee31-0302-4fb1-bf23-bc13e184b014",
   "metadata": {},
   "outputs": [],
   "source": [
    "def convert_to_int(enrollment):\n",
    "    if 'k' in enrollment:\n",
    "        return int(float(enrollment.replace('k', '')) * 1000)\n",
    "    elif 'm' in enrollment:\n",
    "        return int(float(enrollment.replace('m', '')) * 1000000)\n",
    "    return int(enrollment)\n",
    "df['course_students_enrolled'] = df['course_students_enrolled'].apply(convert_to_int)"
   ]
  },
  {
   "cell_type": "code",
   "execution_count": 14,
   "id": "b69061e5-a481-4e73-93fb-1ded21c4c4a1",
   "metadata": {},
   "outputs": [
    {
     "name": "stdout",
     "output_type": "stream",
     "text": [
      "Total number of students who have bought a communication course: 918000\n"
     ]
    }
   ],
   "source": [
    "# Filter rows where 'course_titles' contain 'communication' (case-insensitive)\n",
    "communication_courses = df[df['course_title'].str.contains('communication', case=False, na=False)]\n",
    "\n",
    "# Sum the 'no_of_students' for the filtered rows\n",
    "total_students_communication = communication_courses['course_students_enrolled'].sum()\n",
    "\n",
    "# Display the result\n",
    "print(f\"Total number of students who have bought a communication course: {total_students_communication}\")"
   ]
  },
  {
   "cell_type": "code",
   "execution_count": 15,
   "id": "6a3d7eeb-1d77-423a-8f0a-f1c56d88abe1",
   "metadata": {},
   "outputs": [
    {
     "name": "stdout",
     "output_type": "stream",
     "text": [
      "<class 'pandas.core.frame.DataFrame'>\n",
      "RangeIndex: 891 entries, 0 to 890\n",
      "Data columns (total 7 columns):\n",
      " #   Column                    Non-Null Count  Dtype  \n",
      "---  ------                    --------------  -----  \n",
      " 0   Unnamed: 0                891 non-null    int64  \n",
      " 1   course_title              891 non-null    object \n",
      " 2   course_organization       891 non-null    object \n",
      " 3   course_Certificate_type   891 non-null    object \n",
      " 4   course_rating             891 non-null    float64\n",
      " 5   course_difficulty         891 non-null    object \n",
      " 6   course_students_enrolled  891 non-null    int64  \n",
      "dtypes: float64(1), int64(2), object(4)\n",
      "memory usage: 48.9+ KB\n"
     ]
    }
   ],
   "source": [
    "df.info()"
   ]
  },
  {
   "cell_type": "code",
   "execution_count": 16,
   "id": "2ec434ee-5181-4edc-aa6d-7192948cbffd",
   "metadata": {},
   "outputs": [
    {
     "data": {
      "text/html": [
       "<div>\n",
       "<style scoped>\n",
       "    .dataframe tbody tr th:only-of-type {\n",
       "        vertical-align: middle;\n",
       "    }\n",
       "\n",
       "    .dataframe tbody tr th {\n",
       "        vertical-align: top;\n",
       "    }\n",
       "\n",
       "    .dataframe thead th {\n",
       "        text-align: right;\n",
       "    }\n",
       "</style>\n",
       "<table border=\"1\" class=\"dataframe\">\n",
       "  <thead>\n",
       "    <tr style=\"text-align: right;\">\n",
       "      <th></th>\n",
       "      <th>Unnamed: 0</th>\n",
       "      <th>course_title</th>\n",
       "      <th>course_organization</th>\n",
       "      <th>course_Certificate_type</th>\n",
       "      <th>course_rating</th>\n",
       "      <th>course_difficulty</th>\n",
       "      <th>course_students_enrolled</th>\n",
       "    </tr>\n",
       "  </thead>\n",
       "  <tbody>\n",
       "    <tr>\n",
       "      <th>111</th>\n",
       "      <td>168</td>\n",
       "      <td>Business English Communication Skills</td>\n",
       "      <td>University of Washington</td>\n",
       "      <td>SPECIALIZATION</td>\n",
       "      <td>4.7</td>\n",
       "      <td>Intermediate</td>\n",
       "      <td>120000</td>\n",
       "    </tr>\n",
       "    <tr>\n",
       "      <th>145</th>\n",
       "      <td>709</td>\n",
       "      <td>Communication Skills for Engineers</td>\n",
       "      <td>Rice University</td>\n",
       "      <td>SPECIALIZATION</td>\n",
       "      <td>4.7</td>\n",
       "      <td>Beginner</td>\n",
       "      <td>15000</td>\n",
       "    </tr>\n",
       "    <tr>\n",
       "      <th>146</th>\n",
       "      <td>305</td>\n",
       "      <td>Communication Strategies for a Virtual Age</td>\n",
       "      <td>University of Toronto</td>\n",
       "      <td>COURSE</td>\n",
       "      <td>4.8</td>\n",
       "      <td>Beginner</td>\n",
       "      <td>43000</td>\n",
       "    </tr>\n",
       "    <tr>\n",
       "      <th>201</th>\n",
       "      <td>686</td>\n",
       "      <td>Data Visualization and Communication with Tableau</td>\n",
       "      <td>Duke University</td>\n",
       "      <td>COURSE</td>\n",
       "      <td>4.7</td>\n",
       "      <td>Mixed</td>\n",
       "      <td>130000</td>\n",
       "    </tr>\n",
       "    <tr>\n",
       "      <th>426</th>\n",
       "      <td>36</td>\n",
       "      <td>Improve Your English Communication Skills</td>\n",
       "      <td>Georgia Institute of Technology</td>\n",
       "      <td>SPECIALIZATION</td>\n",
       "      <td>4.7</td>\n",
       "      <td>Beginner</td>\n",
       "      <td>610000</td>\n",
       "    </tr>\n",
       "  </tbody>\n",
       "</table>\n",
       "</div>"
      ],
      "text/plain": [
       "     Unnamed: 0                                       course_title  \\\n",
       "111         168              Business English Communication Skills   \n",
       "145         709                 Communication Skills for Engineers   \n",
       "146         305         Communication Strategies for a Virtual Age   \n",
       "201         686  Data Visualization and Communication with Tableau   \n",
       "426          36          Improve Your English Communication Skills   \n",
       "\n",
       "                 course_organization course_Certificate_type  course_rating  \\\n",
       "111         University of Washington          SPECIALIZATION            4.7   \n",
       "145                  Rice University          SPECIALIZATION            4.7   \n",
       "146            University of Toronto                  COURSE            4.8   \n",
       "201                  Duke University                  COURSE            4.7   \n",
       "426  Georgia Institute of Technology          SPECIALIZATION            4.7   \n",
       "\n",
       "    course_difficulty  course_students_enrolled  \n",
       "111      Intermediate                    120000  \n",
       "145          Beginner                     15000  \n",
       "146          Beginner                     43000  \n",
       "201             Mixed                    130000  \n",
       "426          Beginner                    610000  "
      ]
     },
     "execution_count": 16,
     "metadata": {},
     "output_type": "execute_result"
    }
   ],
   "source": [
    "communication_courses"
   ]
  },
  {
   "cell_type": "code",
   "execution_count": 17,
   "id": "4a7db11b-9bbb-4bce-9206-0966bf9acc7e",
   "metadata": {},
   "outputs": [],
   "source": [
    "total = df['course_students_enrolled'].sum()"
   ]
  },
  {
   "cell_type": "code",
   "execution_count": 18,
   "id": "c07dfcb6-e4fa-41f5-9cde-7a22909af88a",
   "metadata": {},
   "outputs": [
    {
     "data": {
      "text/plain": [
       "1.1378016630743697"
      ]
     },
     "execution_count": 18,
     "metadata": {},
     "output_type": "execute_result"
    }
   ],
   "source": [
    "total_students_communication/total * 100"
   ]
  },
  {
   "cell_type": "code",
   "execution_count": null,
   "id": "a36afd79-c8ba-4e46-925f-a681db4de2e8",
   "metadata": {},
   "outputs": [],
   "source": []
  }
 ],
 "metadata": {
  "kernelspec": {
   "display_name": "Python 3 (ipykernel)",
   "language": "python",
   "name": "python3"
  },
  "language_info": {
   "codemirror_mode": {
    "name": "ipython",
    "version": 3
   },
   "file_extension": ".py",
   "mimetype": "text/x-python",
   "name": "python",
   "nbconvert_exporter": "python",
   "pygments_lexer": "ipython3",
   "version": "3.11.7"
  }
 },
 "nbformat": 4,
 "nbformat_minor": 5
}

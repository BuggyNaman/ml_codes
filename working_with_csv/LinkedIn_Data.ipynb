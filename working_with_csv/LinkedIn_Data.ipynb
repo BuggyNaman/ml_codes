{
 "cells": [
  {
   "cell_type": "code",
   "execution_count": 1,
   "id": "c0df698b-6467-40fc-b5cd-d05ca6bf3aec",
   "metadata": {},
   "outputs": [],
   "source": [
    "import pandas as pd"
   ]
  },
  {
   "cell_type": "code",
   "execution_count": 2,
   "id": "2459c9bc-6c76-42cb-b443-f1849ea80eb5",
   "metadata": {},
   "outputs": [
    {
     "ename": "FileNotFoundError",
     "evalue": "[Errno 2] No such file or directory: '../Datasets/LinkedIn company information datasets (Public web data).csv'",
     "output_type": "error",
     "traceback": [
      "\u001b[0;31m---------------------------------------------------------------------------\u001b[0m",
      "\u001b[0;31mFileNotFoundError\u001b[0m                         Traceback (most recent call last)",
      "Cell \u001b[0;32mIn[2], line 1\u001b[0m\n\u001b[0;32m----> 1\u001b[0m df1 \u001b[38;5;241m=\u001b[39m pd\u001b[38;5;241m.\u001b[39mread_csv(\u001b[38;5;124m'\u001b[39m\u001b[38;5;124m../Datasets/LinkedIn company information datasets (Public web data).csv\u001b[39m\u001b[38;5;124m'\u001b[39m)\n",
      "File \u001b[0;32m/opt/anaconda3/lib/python3.11/site-packages/pandas/io/parsers/readers.py:1026\u001b[0m, in \u001b[0;36mread_csv\u001b[0;34m(filepath_or_buffer, sep, delimiter, header, names, index_col, usecols, dtype, engine, converters, true_values, false_values, skipinitialspace, skiprows, skipfooter, nrows, na_values, keep_default_na, na_filter, verbose, skip_blank_lines, parse_dates, infer_datetime_format, keep_date_col, date_parser, date_format, dayfirst, cache_dates, iterator, chunksize, compression, thousands, decimal, lineterminator, quotechar, quoting, doublequote, escapechar, comment, encoding, encoding_errors, dialect, on_bad_lines, delim_whitespace, low_memory, memory_map, float_precision, storage_options, dtype_backend)\u001b[0m\n\u001b[1;32m   1013\u001b[0m kwds_defaults \u001b[38;5;241m=\u001b[39m _refine_defaults_read(\n\u001b[1;32m   1014\u001b[0m     dialect,\n\u001b[1;32m   1015\u001b[0m     delimiter,\n\u001b[0;32m   (...)\u001b[0m\n\u001b[1;32m   1022\u001b[0m     dtype_backend\u001b[38;5;241m=\u001b[39mdtype_backend,\n\u001b[1;32m   1023\u001b[0m )\n\u001b[1;32m   1024\u001b[0m kwds\u001b[38;5;241m.\u001b[39mupdate(kwds_defaults)\n\u001b[0;32m-> 1026\u001b[0m \u001b[38;5;28;01mreturn\u001b[39;00m _read(filepath_or_buffer, kwds)\n",
      "File \u001b[0;32m/opt/anaconda3/lib/python3.11/site-packages/pandas/io/parsers/readers.py:620\u001b[0m, in \u001b[0;36m_read\u001b[0;34m(filepath_or_buffer, kwds)\u001b[0m\n\u001b[1;32m    617\u001b[0m _validate_names(kwds\u001b[38;5;241m.\u001b[39mget(\u001b[38;5;124m\"\u001b[39m\u001b[38;5;124mnames\u001b[39m\u001b[38;5;124m\"\u001b[39m, \u001b[38;5;28;01mNone\u001b[39;00m))\n\u001b[1;32m    619\u001b[0m \u001b[38;5;66;03m# Create the parser.\u001b[39;00m\n\u001b[0;32m--> 620\u001b[0m parser \u001b[38;5;241m=\u001b[39m TextFileReader(filepath_or_buffer, \u001b[38;5;241m*\u001b[39m\u001b[38;5;241m*\u001b[39mkwds)\n\u001b[1;32m    622\u001b[0m \u001b[38;5;28;01mif\u001b[39;00m chunksize \u001b[38;5;129;01mor\u001b[39;00m iterator:\n\u001b[1;32m    623\u001b[0m     \u001b[38;5;28;01mreturn\u001b[39;00m parser\n",
      "File \u001b[0;32m/opt/anaconda3/lib/python3.11/site-packages/pandas/io/parsers/readers.py:1620\u001b[0m, in \u001b[0;36mTextFileReader.__init__\u001b[0;34m(self, f, engine, **kwds)\u001b[0m\n\u001b[1;32m   1617\u001b[0m     \u001b[38;5;28mself\u001b[39m\u001b[38;5;241m.\u001b[39moptions[\u001b[38;5;124m\"\u001b[39m\u001b[38;5;124mhas_index_names\u001b[39m\u001b[38;5;124m\"\u001b[39m] \u001b[38;5;241m=\u001b[39m kwds[\u001b[38;5;124m\"\u001b[39m\u001b[38;5;124mhas_index_names\u001b[39m\u001b[38;5;124m\"\u001b[39m]\n\u001b[1;32m   1619\u001b[0m \u001b[38;5;28mself\u001b[39m\u001b[38;5;241m.\u001b[39mhandles: IOHandles \u001b[38;5;241m|\u001b[39m \u001b[38;5;28;01mNone\u001b[39;00m \u001b[38;5;241m=\u001b[39m \u001b[38;5;28;01mNone\u001b[39;00m\n\u001b[0;32m-> 1620\u001b[0m \u001b[38;5;28mself\u001b[39m\u001b[38;5;241m.\u001b[39m_engine \u001b[38;5;241m=\u001b[39m \u001b[38;5;28mself\u001b[39m\u001b[38;5;241m.\u001b[39m_make_engine(f, \u001b[38;5;28mself\u001b[39m\u001b[38;5;241m.\u001b[39mengine)\n",
      "File \u001b[0;32m/opt/anaconda3/lib/python3.11/site-packages/pandas/io/parsers/readers.py:1880\u001b[0m, in \u001b[0;36mTextFileReader._make_engine\u001b[0;34m(self, f, engine)\u001b[0m\n\u001b[1;32m   1878\u001b[0m     \u001b[38;5;28;01mif\u001b[39;00m \u001b[38;5;124m\"\u001b[39m\u001b[38;5;124mb\u001b[39m\u001b[38;5;124m\"\u001b[39m \u001b[38;5;129;01mnot\u001b[39;00m \u001b[38;5;129;01min\u001b[39;00m mode:\n\u001b[1;32m   1879\u001b[0m         mode \u001b[38;5;241m+\u001b[39m\u001b[38;5;241m=\u001b[39m \u001b[38;5;124m\"\u001b[39m\u001b[38;5;124mb\u001b[39m\u001b[38;5;124m\"\u001b[39m\n\u001b[0;32m-> 1880\u001b[0m \u001b[38;5;28mself\u001b[39m\u001b[38;5;241m.\u001b[39mhandles \u001b[38;5;241m=\u001b[39m get_handle(\n\u001b[1;32m   1881\u001b[0m     f,\n\u001b[1;32m   1882\u001b[0m     mode,\n\u001b[1;32m   1883\u001b[0m     encoding\u001b[38;5;241m=\u001b[39m\u001b[38;5;28mself\u001b[39m\u001b[38;5;241m.\u001b[39moptions\u001b[38;5;241m.\u001b[39mget(\u001b[38;5;124m\"\u001b[39m\u001b[38;5;124mencoding\u001b[39m\u001b[38;5;124m\"\u001b[39m, \u001b[38;5;28;01mNone\u001b[39;00m),\n\u001b[1;32m   1884\u001b[0m     compression\u001b[38;5;241m=\u001b[39m\u001b[38;5;28mself\u001b[39m\u001b[38;5;241m.\u001b[39moptions\u001b[38;5;241m.\u001b[39mget(\u001b[38;5;124m\"\u001b[39m\u001b[38;5;124mcompression\u001b[39m\u001b[38;5;124m\"\u001b[39m, \u001b[38;5;28;01mNone\u001b[39;00m),\n\u001b[1;32m   1885\u001b[0m     memory_map\u001b[38;5;241m=\u001b[39m\u001b[38;5;28mself\u001b[39m\u001b[38;5;241m.\u001b[39moptions\u001b[38;5;241m.\u001b[39mget(\u001b[38;5;124m\"\u001b[39m\u001b[38;5;124mmemory_map\u001b[39m\u001b[38;5;124m\"\u001b[39m, \u001b[38;5;28;01mFalse\u001b[39;00m),\n\u001b[1;32m   1886\u001b[0m     is_text\u001b[38;5;241m=\u001b[39mis_text,\n\u001b[1;32m   1887\u001b[0m     errors\u001b[38;5;241m=\u001b[39m\u001b[38;5;28mself\u001b[39m\u001b[38;5;241m.\u001b[39moptions\u001b[38;5;241m.\u001b[39mget(\u001b[38;5;124m\"\u001b[39m\u001b[38;5;124mencoding_errors\u001b[39m\u001b[38;5;124m\"\u001b[39m, \u001b[38;5;124m\"\u001b[39m\u001b[38;5;124mstrict\u001b[39m\u001b[38;5;124m\"\u001b[39m),\n\u001b[1;32m   1888\u001b[0m     storage_options\u001b[38;5;241m=\u001b[39m\u001b[38;5;28mself\u001b[39m\u001b[38;5;241m.\u001b[39moptions\u001b[38;5;241m.\u001b[39mget(\u001b[38;5;124m\"\u001b[39m\u001b[38;5;124mstorage_options\u001b[39m\u001b[38;5;124m\"\u001b[39m, \u001b[38;5;28;01mNone\u001b[39;00m),\n\u001b[1;32m   1889\u001b[0m )\n\u001b[1;32m   1890\u001b[0m \u001b[38;5;28;01massert\u001b[39;00m \u001b[38;5;28mself\u001b[39m\u001b[38;5;241m.\u001b[39mhandles \u001b[38;5;129;01mis\u001b[39;00m \u001b[38;5;129;01mnot\u001b[39;00m \u001b[38;5;28;01mNone\u001b[39;00m\n\u001b[1;32m   1891\u001b[0m f \u001b[38;5;241m=\u001b[39m \u001b[38;5;28mself\u001b[39m\u001b[38;5;241m.\u001b[39mhandles\u001b[38;5;241m.\u001b[39mhandle\n",
      "File \u001b[0;32m/opt/anaconda3/lib/python3.11/site-packages/pandas/io/common.py:873\u001b[0m, in \u001b[0;36mget_handle\u001b[0;34m(path_or_buf, mode, encoding, compression, memory_map, is_text, errors, storage_options)\u001b[0m\n\u001b[1;32m    868\u001b[0m \u001b[38;5;28;01melif\u001b[39;00m \u001b[38;5;28misinstance\u001b[39m(handle, \u001b[38;5;28mstr\u001b[39m):\n\u001b[1;32m    869\u001b[0m     \u001b[38;5;66;03m# Check whether the filename is to be opened in binary mode.\u001b[39;00m\n\u001b[1;32m    870\u001b[0m     \u001b[38;5;66;03m# Binary mode does not support 'encoding' and 'newline'.\u001b[39;00m\n\u001b[1;32m    871\u001b[0m     \u001b[38;5;28;01mif\u001b[39;00m ioargs\u001b[38;5;241m.\u001b[39mencoding \u001b[38;5;129;01mand\u001b[39;00m \u001b[38;5;124m\"\u001b[39m\u001b[38;5;124mb\u001b[39m\u001b[38;5;124m\"\u001b[39m \u001b[38;5;129;01mnot\u001b[39;00m \u001b[38;5;129;01min\u001b[39;00m ioargs\u001b[38;5;241m.\u001b[39mmode:\n\u001b[1;32m    872\u001b[0m         \u001b[38;5;66;03m# Encoding\u001b[39;00m\n\u001b[0;32m--> 873\u001b[0m         handle \u001b[38;5;241m=\u001b[39m \u001b[38;5;28mopen\u001b[39m(\n\u001b[1;32m    874\u001b[0m             handle,\n\u001b[1;32m    875\u001b[0m             ioargs\u001b[38;5;241m.\u001b[39mmode,\n\u001b[1;32m    876\u001b[0m             encoding\u001b[38;5;241m=\u001b[39mioargs\u001b[38;5;241m.\u001b[39mencoding,\n\u001b[1;32m    877\u001b[0m             errors\u001b[38;5;241m=\u001b[39merrors,\n\u001b[1;32m    878\u001b[0m             newline\u001b[38;5;241m=\u001b[39m\u001b[38;5;124m\"\u001b[39m\u001b[38;5;124m\"\u001b[39m,\n\u001b[1;32m    879\u001b[0m         )\n\u001b[1;32m    880\u001b[0m     \u001b[38;5;28;01melse\u001b[39;00m:\n\u001b[1;32m    881\u001b[0m         \u001b[38;5;66;03m# Binary mode\u001b[39;00m\n\u001b[1;32m    882\u001b[0m         handle \u001b[38;5;241m=\u001b[39m \u001b[38;5;28mopen\u001b[39m(handle, ioargs\u001b[38;5;241m.\u001b[39mmode)\n",
      "\u001b[0;31mFileNotFoundError\u001b[0m: [Errno 2] No such file or directory: '../Datasets/LinkedIn company information datasets (Public web data).csv'"
     ]
    }
   ],
   "source": [
    "df1 = pd.read_csv('../Datasets/LinkedIn company information datasets (Public web data).csv')"
   ]
  },
  {
   "cell_type": "code",
   "execution_count": null,
   "id": "35f0be9c-eeeb-4d4e-a44e-398fb0d3932c",
   "metadata": {},
   "outputs": [],
   "source": [
    "df2 = pd.read_csv('../Datasets/LinkedIn people profiles datasets.csv')"
   ]
  },
  {
   "cell_type": "code",
   "execution_count": null,
   "id": "cc8bfbef-56b7-4ccc-9fc0-e1114ede1201",
   "metadata": {},
   "outputs": [
    {
     "data": {
      "text/html": [
       "<div>\n",
       "<style scoped>\n",
       "    .dataframe tbody tr th:only-of-type {\n",
       "        vertical-align: middle;\n",
       "    }\n",
       "\n",
       "    .dataframe tbody tr th {\n",
       "        vertical-align: top;\n",
       "    }\n",
       "\n",
       "    .dataframe thead th {\n",
       "        text-align: right;\n",
       "    }\n",
       "</style>\n",
       "<table border=\"1\" class=\"dataframe\">\n",
       "  <thead>\n",
       "    <tr style=\"text-align: right;\">\n",
       "      <th></th>\n",
       "      <th>timestamp</th>\n",
       "      <th>id</th>\n",
       "      <th>name</th>\n",
       "      <th>city</th>\n",
       "      <th>country_code</th>\n",
       "      <th>region</th>\n",
       "      <th>current_company:company_id</th>\n",
       "      <th>current_company:name</th>\n",
       "      <th>position</th>\n",
       "      <th>following</th>\n",
       "      <th>...</th>\n",
       "      <th>people_also_viewed</th>\n",
       "      <th>educations_details</th>\n",
       "      <th>education</th>\n",
       "      <th>avatar</th>\n",
       "      <th>languages</th>\n",
       "      <th>certifications</th>\n",
       "      <th>recommendations</th>\n",
       "      <th>recommendations_count</th>\n",
       "      <th>volunteer_experience</th>\n",
       "      <th>сourses</th>\n",
       "    </tr>\n",
       "  </thead>\n",
       "  <tbody>\n",
       "    <tr>\n",
       "      <th>188</th>\n",
       "      <td>2023-01-12</td>\n",
       "      <td>charlie-cowden-b2a2aa42</td>\n",
       "      <td>Charlie Cowden</td>\n",
       "      <td>Pearcy, Arkansas, United States</td>\n",
       "      <td>US</td>\n",
       "      <td>NaN</td>\n",
       "      <td>NaN</td>\n",
       "      <td>Mystic Cottage Furniture</td>\n",
       "      <td>Owner Mystic Cottage Furniture</td>\n",
       "      <td>NaN</td>\n",
       "      <td>...</td>\n",
       "      <td>[{\"profile_link\":\"https://www.linkedin.com/in/...</td>\n",
       "      <td>NaN</td>\n",
       "      <td>NaN</td>\n",
       "      <td>NaN</td>\n",
       "      <td>NaN</td>\n",
       "      <td>NaN</td>\n",
       "      <td>NaN</td>\n",
       "      <td>NaN</td>\n",
       "      <td>NaN</td>\n",
       "      <td>NaN</td>\n",
       "    </tr>\n",
       "    <tr>\n",
       "      <th>610</th>\n",
       "      <td>2021-04-25</td>\n",
       "      <td>alma-rose-daaca-5186bb206</td>\n",
       "      <td>Alma Rose Daaca</td>\n",
       "      <td>Bukidnon, Northern Mindanao, Philippines</td>\n",
       "      <td>PH</td>\n",
       "      <td>AS</td>\n",
       "      <td>NaN</td>\n",
       "      <td>Self-employed</td>\n",
       "      <td>Administrative Support Specialist | Social Med...</td>\n",
       "      <td>29.0</td>\n",
       "      <td>...</td>\n",
       "      <td>[{\"profile_link\":\"https://ph.linkedin.com/in/c...</td>\n",
       "      <td>KCAST Colleges Education KCAST Colleges Bachel...</td>\n",
       "      <td>[{\"degree\":\"Bachelor of Science - Accountancy\"...</td>\n",
       "      <td>https://media-exp1.licdn.com/dms/image/C4E03AQ...</td>\n",
       "      <td>NaN</td>\n",
       "      <td>NaN</td>\n",
       "      <td>NaN</td>\n",
       "      <td>NaN</td>\n",
       "      <td>NaN</td>\n",
       "      <td>NaN</td>\n",
       "    </tr>\n",
       "    <tr>\n",
       "      <th>705</th>\n",
       "      <td>2022-12-09</td>\n",
       "      <td>hani-salim-8358541b8</td>\n",
       "      <td>Hani Salim</td>\n",
       "      <td>Muscat, Masqaţ, Oman</td>\n",
       "      <td>OM</td>\n",
       "      <td>AS</td>\n",
       "      <td>oman-air</td>\n",
       "      <td>Oman Air</td>\n",
       "      <td>Manager Commercial Contracts Administration at...</td>\n",
       "      <td>NaN</td>\n",
       "      <td>...</td>\n",
       "      <td>[{\"profile_link\":\"https://om.linkedin.com/in/t...</td>\n",
       "      <td>Al Buraimi University College</td>\n",
       "      <td>[{\"degree\":\"Master of Laws - LLM\",\"end_year\":\"...</td>\n",
       "      <td>https://static-exp1.licdn.com/sc/h/244xhbkr7g4...</td>\n",
       "      <td>NaN</td>\n",
       "      <td>NaN</td>\n",
       "      <td>NaN</td>\n",
       "      <td>NaN</td>\n",
       "      <td>NaN</td>\n",
       "      <td>NaN</td>\n",
       "    </tr>\n",
       "    <tr>\n",
       "      <th>537</th>\n",
       "      <td>2023-04-22</td>\n",
       "      <td>rosemarymendez</td>\n",
       "      <td>Rosemary Mendez</td>\n",
       "      <td>NaN</td>\n",
       "      <td>CO</td>\n",
       "      <td>NaN</td>\n",
       "      <td>smb-capital</td>\n",
       "      <td>SMB Capital</td>\n",
       "      <td>Customer Experience Manager | Executive Master...</td>\n",
       "      <td>NaN</td>\n",
       "      <td>...</td>\n",
       "      <td>[{\"profile_link\":\"https://www.linkedin.com/in/...</td>\n",
       "      <td>Esade</td>\n",
       "      <td>[{\"degree\":\"Executive Master in Business Analy...</td>\n",
       "      <td>https://media.licdn.com/dms/image/C4E03AQFSDdD...</td>\n",
       "      <td>[{\"subtitle\":\"Native or bilingual proficiency\"...</td>\n",
       "      <td>[{\"meta\":\"Issued Nov 2022\",\"subtitle\":\"Esade\",...</td>\n",
       "      <td>LinkedIn User “she has a high degree of commit...</td>\n",
       "      <td>1.0</td>\n",
       "      <td>NaN</td>\n",
       "      <td>NaN</td>\n",
       "    </tr>\n",
       "    <tr>\n",
       "      <th>198</th>\n",
       "      <td>2022-02-21</td>\n",
       "      <td>damian-wales</td>\n",
       "      <td>Damian Wales</td>\n",
       "      <td>Indonesia</td>\n",
       "      <td>ID</td>\n",
       "      <td>AS</td>\n",
       "      <td>NaN</td>\n",
       "      <td>NaN</td>\n",
       "      <td>NaN</td>\n",
       "      <td>13.0</td>\n",
       "      <td>...</td>\n",
       "      <td>[{\"profile_link\":\"https://id.linkedin.com/in/g...</td>\n",
       "      <td>NaN</td>\n",
       "      <td>NaN</td>\n",
       "      <td>https://static-exp1.licdn.com/sc/h/244xhbkr7g4...</td>\n",
       "      <td>[{\"subtitle\":\"Native or bilingual proficiency\"...</td>\n",
       "      <td>NaN</td>\n",
       "      <td>NaN</td>\n",
       "      <td>NaN</td>\n",
       "      <td>NaN</td>\n",
       "      <td>NaN</td>\n",
       "    </tr>\n",
       "  </tbody>\n",
       "</table>\n",
       "<p>5 rows × 26 columns</p>\n",
       "</div>"
      ],
      "text/plain": [
       "      timestamp                         id             name  \\\n",
       "188  2023-01-12    charlie-cowden-b2a2aa42   Charlie Cowden   \n",
       "610  2021-04-25  alma-rose-daaca-5186bb206  Alma Rose Daaca   \n",
       "705  2022-12-09       hani-salim-8358541b8       Hani Salim   \n",
       "537  2023-04-22             rosemarymendez  Rosemary Mendez   \n",
       "198  2022-02-21               damian-wales     Damian Wales   \n",
       "\n",
       "                                         city country_code region  \\\n",
       "188           Pearcy, Arkansas, United States           US    NaN   \n",
       "610  Bukidnon, Northern Mindanao, Philippines           PH     AS   \n",
       "705                      Muscat, Masqaţ, Oman           OM     AS   \n",
       "537                                       NaN           CO    NaN   \n",
       "198                                 Indonesia           ID     AS   \n",
       "\n",
       "    current_company:company_id      current_company:name  \\\n",
       "188                        NaN  Mystic Cottage Furniture   \n",
       "610                        NaN             Self-employed   \n",
       "705                   oman-air                  Oman Air   \n",
       "537                smb-capital               SMB Capital   \n",
       "198                        NaN                       NaN   \n",
       "\n",
       "                                              position  following  ...  \\\n",
       "188                     Owner Mystic Cottage Furniture        NaN  ...   \n",
       "610  Administrative Support Specialist | Social Med...       29.0  ...   \n",
       "705  Manager Commercial Contracts Administration at...        NaN  ...   \n",
       "537  Customer Experience Manager | Executive Master...        NaN  ...   \n",
       "198                                                NaN       13.0  ...   \n",
       "\n",
       "                                    people_also_viewed  \\\n",
       "188  [{\"profile_link\":\"https://www.linkedin.com/in/...   \n",
       "610  [{\"profile_link\":\"https://ph.linkedin.com/in/c...   \n",
       "705  [{\"profile_link\":\"https://om.linkedin.com/in/t...   \n",
       "537  [{\"profile_link\":\"https://www.linkedin.com/in/...   \n",
       "198  [{\"profile_link\":\"https://id.linkedin.com/in/g...   \n",
       "\n",
       "                                    educations_details  \\\n",
       "188                                                NaN   \n",
       "610  KCAST Colleges Education KCAST Colleges Bachel...   \n",
       "705                      Al Buraimi University College   \n",
       "537                                              Esade   \n",
       "198                                                NaN   \n",
       "\n",
       "                                             education  \\\n",
       "188                                                NaN   \n",
       "610  [{\"degree\":\"Bachelor of Science - Accountancy\"...   \n",
       "705  [{\"degree\":\"Master of Laws - LLM\",\"end_year\":\"...   \n",
       "537  [{\"degree\":\"Executive Master in Business Analy...   \n",
       "198                                                NaN   \n",
       "\n",
       "                                                avatar  \\\n",
       "188                                                NaN   \n",
       "610  https://media-exp1.licdn.com/dms/image/C4E03AQ...   \n",
       "705  https://static-exp1.licdn.com/sc/h/244xhbkr7g4...   \n",
       "537  https://media.licdn.com/dms/image/C4E03AQFSDdD...   \n",
       "198  https://static-exp1.licdn.com/sc/h/244xhbkr7g4...   \n",
       "\n",
       "                                             languages  \\\n",
       "188                                                NaN   \n",
       "610                                                NaN   \n",
       "705                                                NaN   \n",
       "537  [{\"subtitle\":\"Native or bilingual proficiency\"...   \n",
       "198  [{\"subtitle\":\"Native or bilingual proficiency\"...   \n",
       "\n",
       "                                        certifications  \\\n",
       "188                                                NaN   \n",
       "610                                                NaN   \n",
       "705                                                NaN   \n",
       "537  [{\"meta\":\"Issued Nov 2022\",\"subtitle\":\"Esade\",...   \n",
       "198                                                NaN   \n",
       "\n",
       "                                       recommendations recommendations_count  \\\n",
       "188                                                NaN                   NaN   \n",
       "610                                                NaN                   NaN   \n",
       "705                                                NaN                   NaN   \n",
       "537  LinkedIn User “she has a high degree of commit...                   1.0   \n",
       "198                                                NaN                   NaN   \n",
       "\n",
       "    volunteer_experience сourses  \n",
       "188                  NaN     NaN  \n",
       "610                  NaN     NaN  \n",
       "705                  NaN     NaN  \n",
       "537                  NaN     NaN  \n",
       "198                  NaN     NaN  \n",
       "\n",
       "[5 rows x 26 columns]"
      ]
     },
     "execution_count": 26,
     "metadata": {},
     "output_type": "execute_result"
    }
   ],
   "source": [
    "df2.sample(5)"
   ]
  },
  {
   "cell_type": "code",
   "execution_count": null,
   "id": "4124c248-a3b1-4475-a522-c8a4f642de73",
   "metadata": {},
   "outputs": [
    {
     "name": "stdout",
     "output_type": "stream",
     "text": [
      "<class 'pandas.core.frame.DataFrame'>\n",
      "RangeIndex: 1000 entries, 0 to 999\n",
      "Data columns (total 31 columns):\n",
      " #   Column                 Non-Null Count  Dtype  \n",
      "---  ------                 --------------  -----  \n",
      " 0   timestamp              1000 non-null   object \n",
      " 1   id                     1000 non-null   object \n",
      " 2   name                   1000 non-null   object \n",
      " 3   country_code           999 non-null    object \n",
      " 4   locations              1000 non-null   object \n",
      " 5   formatted_locations    1000 non-null   object \n",
      " 6   followers              1000 non-null   int64  \n",
      " 7   employees_in_linkedin  847 non-null    float64\n",
      " 8   about                  998 non-null    object \n",
      " 9   specialties            765 non-null    object \n",
      " 10  company_size           1000 non-null   object \n",
      " 11  organization_type      930 non-null    object \n",
      " 12  industries             1000 non-null   object \n",
      " 13  website                969 non-null    object \n",
      " 14  crunchbase_url         15 non-null     object \n",
      " 15  founded                996 non-null    float64\n",
      " 16  company_id             1000 non-null   int64  \n",
      " 17  employees              848 non-null    object \n",
      " 18  headquarters           999 non-null    object \n",
      " 19  image                  1000 non-null   object \n",
      " 20  logo                   1000 non-null   object \n",
      " 21  similar                881 non-null    object \n",
      " 22  sphere                 1000 non-null   object \n",
      " 23  url                    1000 non-null   object \n",
      " 24  type                   1000 non-null   object \n",
      " 25  updates                491 non-null    object \n",
      " 26  slogan                 778 non-null    object \n",
      " 27  affiliated             49 non-null     object \n",
      " 28  funding                15 non-null     object \n",
      " 29  stock_info             0 non-null      float64\n",
      " 30  investors              9 non-null      object \n",
      "dtypes: float64(3), int64(2), object(26)\n",
      "memory usage: 242.3+ KB\n"
     ]
    }
   ],
   "source": [
    "df.info()"
   ]
  },
  {
   "cell_type": "code",
   "execution_count": null,
   "id": "38bb8d52-a6ef-4f9b-85ae-a13e861e8191",
   "metadata": {},
   "outputs": [
    {
     "data": {
      "text/plain": [
       "timestamp                       0\n",
       "id                              0\n",
       "name                            0\n",
       "city                           51\n",
       "country_code                    2\n",
       "region                        544\n",
       "current_company:company_id    428\n",
       "current_company:name          167\n",
       "position                       18\n",
       "following                     519\n",
       "about                         502\n",
       "posts                         583\n",
       "groups                        890\n",
       "current_company                 0\n",
       "experience                     94\n",
       "url                             0\n",
       "people_also_viewed            177\n",
       "educations_details            318\n",
       "education                     280\n",
       "avatar                        190\n",
       "languages                     745\n",
       "certifications                816\n",
       "recommendations               827\n",
       "recommendations_count         827\n",
       "volunteer_experience          884\n",
       "сourses                       993\n",
       "dtype: int64"
      ]
     },
     "execution_count": 32,
     "metadata": {},
     "output_type": "execute_result"
    }
   ],
   "source": [
    "df2.isnull().sum()"
   ]
  },
  {
   "cell_type": "code",
   "execution_count": null,
   "id": "e450d55c-6951-4744-9df6-be524d192218",
   "metadata": {},
   "outputs": [
    {
     "data": {
      "text/plain": [
       "(1000, 26)"
      ]
     },
     "execution_count": 36,
     "metadata": {},
     "output_type": "execute_result"
    }
   ],
   "source": [
    "df2.shape"
   ]
  },
  {
   "cell_type": "code",
   "execution_count": null,
   "id": "5a2f03e9-19c8-4023-8e80-60c137e3527c",
   "metadata": {},
   "outputs": [],
   "source": [
    "not_null_values = df2[df2['certifications'].notnull()]"
   ]
  },
  {
   "cell_type": "code",
   "execution_count": null,
   "id": "59cd9ace-1a46-4757-bd8e-76d592ab4f3b",
   "metadata": {},
   "outputs": [
    {
     "name": "stdout",
     "output_type": "stream",
     "text": [
      "                                        certifications\n",
      "1    [{\"meta\":\"Issued Jun 2013\",\"subtitle\":\"Van der...\n",
      "4    [{\"meta\":\"Issued Jan 2022 See credential\",\"sub...\n",
      "6    [{\"meta\":\"Issued Apr 2012\",\"subtitle\":\"ASP Con...\n",
      "9    [{\"meta\":\"Issued May 2021 Credential ID MD252W...\n",
      "13   [{\"meta\":\"\",\"subtitle\":\"Coursera\",\"title\":\"Cry...\n",
      "..                                                 ...\n",
      "986  [{\"meta\":\"\",\"subtitle\":\"American Heart Associa...\n",
      "989  [{\"meta\":\"Issued Sep 2019 Credential ID bd0baa...\n",
      "990  [{\"meta\":\"Issued Sep 2018\",\"subtitle\":\"Google\"...\n",
      "991  [{\"meta\":\"Issued Nov 2021 See credential\",\"sub...\n",
      "993  [{\"meta\":\"Issued Jul 2013\",\"subtitle\":\"IIA-The...\n",
      "\n",
      "[184 rows x 1 columns]\n"
     ]
    }
   ],
   "source": [
    "print(not_null_values[['certifications']])"
   ]
  },
  {
   "cell_type": "code",
   "execution_count": null,
   "id": "d961300d-cbe5-4a06-8d1d-c5727a5b150f",
   "metadata": {},
   "outputs": [
    {
     "data": {
      "text/plain": [
       "0"
      ]
     },
     "execution_count": 62,
     "metadata": {},
     "output_type": "execute_result"
    }
   ],
   "source": [
    "df2.duplicated().sum()"
   ]
  },
  {
   "cell_type": "code",
   "execution_count": null,
   "id": "86b5b76a-22c6-4384-a138-a3ea5e6cdfad",
   "metadata": {},
   "outputs": [],
   "source": [
    "df = not_null_values[['certifications']] "
   ]
  },
  {
   "cell_type": "code",
   "execution_count": null,
   "id": "53e90ca7-2158-4c85-8d87-391f3df195bc",
   "metadata": {},
   "outputs": [
    {
     "name": "stdout",
     "output_type": "stream",
     "text": [
      "                                         meta  subtitle  \\\n",
      "564            Issued May 2022 See credential  LinkedIn   \n",
      "578  Ausgestellt: Apr. 2020 Nachweis anzeigen  LinkedIn   \n",
      "\n",
      "                          title  \n",
      "564  Communication within Teams  \n",
      "578  Organization Communication  \n"
     ]
    }
   ],
   "source": [
    "import ast\n",
    "def parse_and_normalize(certifications):\n",
    "    # Convert the string to a list of dictionaries\n",
    "    cert_list = ast.literal_eval(certifications)\n",
    "    # Normalize the list of dictionaries into a DataFrame\n",
    "    cert_df = pd.json_normalize(cert_list)\n",
    "    return cert_df\n",
    "\n",
    "# Apply the function to the 'certifications' column\n",
    "cert_details_df_list = df['certifications'].apply(parse_and_normalize)\n",
    "\n",
    "# Concatenate all the DataFrames in the list into a single DataFrame\n",
    "cert_details_df = pd.concat(cert_details_df_list.values.tolist(), ignore_index=True)\n",
    "\n",
    "# Filter rows where 'title' contains 'communication' (case-insensitive)\n",
    "communication_certifications = cert_details_df[cert_details_df['title'].str.contains('communication', case=False, na=False)]\n",
    "\n",
    "# Display the result\n",
    "print(communication_certifications)"
   ]
  },
  {
   "cell_type": "code",
   "execution_count": null,
   "id": "78243d4d-0bf0-4941-b93d-5171ffcfd0a4",
   "metadata": {},
   "outputs": [
    {
     "data": {
      "text/html": [
       "<div>\n",
       "<style scoped>\n",
       "    .dataframe tbody tr th:only-of-type {\n",
       "        vertical-align: middle;\n",
       "    }\n",
       "\n",
       "    .dataframe tbody tr th {\n",
       "        vertical-align: top;\n",
       "    }\n",
       "\n",
       "    .dataframe thead th {\n",
       "        text-align: right;\n",
       "    }\n",
       "</style>\n",
       "<table border=\"1\" class=\"dataframe\">\n",
       "  <thead>\n",
       "    <tr style=\"text-align: right;\">\n",
       "      <th></th>\n",
       "      <th>meta</th>\n",
       "      <th>subtitle</th>\n",
       "      <th>title</th>\n",
       "    </tr>\n",
       "  </thead>\n",
       "  <tbody>\n",
       "    <tr>\n",
       "      <th>564</th>\n",
       "      <td>Issued May 2022 See credential</td>\n",
       "      <td>LinkedIn</td>\n",
       "      <td>Communication within Teams</td>\n",
       "    </tr>\n",
       "    <tr>\n",
       "      <th>578</th>\n",
       "      <td>Ausgestellt: Apr. 2020 Nachweis anzeigen</td>\n",
       "      <td>LinkedIn</td>\n",
       "      <td>Organization Communication</td>\n",
       "    </tr>\n",
       "  </tbody>\n",
       "</table>\n",
       "</div>"
      ],
      "text/plain": [
       "                                         meta  subtitle  \\\n",
       "564            Issued May 2022 See credential  LinkedIn   \n",
       "578  Ausgestellt: Apr. 2020 Nachweis anzeigen  LinkedIn   \n",
       "\n",
       "                          title  \n",
       "564  Communication within Teams  \n",
       "578  Organization Communication  "
      ]
     },
     "execution_count": 104,
     "metadata": {},
     "output_type": "execute_result"
    }
   ],
   "source": [
    "communication_certifications\n"
   ]
  },
  {
   "cell_type": "code",
   "execution_count": null,
   "id": "03c945d6-52dc-4769-a9ae-2b800c72eb60",
   "metadata": {},
   "outputs": [
    {
     "data": {
      "text/plain": [
       "(1000, 26)"
      ]
     },
     "execution_count": 106,
     "metadata": {},
     "output_type": "execute_result"
    }
   ],
   "source": [
    "df2.shape\n"
   ]
  },
  {
   "cell_type": "code",
   "execution_count": null,
   "id": "6635dd9f-5e71-424b-94f8-562cd51096cc",
   "metadata": {},
   "outputs": [
    {
     "data": {
      "text/plain": [
       "0.2"
      ]
     },
     "execution_count": 108,
     "metadata": {},
     "output_type": "execute_result"
    }
   ],
   "source": [
    "2/1000*100"
   ]
  },
  {
   "cell_type": "code",
   "execution_count": null,
   "id": "dc10bcdc-891c-462d-b74e-714e7b8b75a8",
   "metadata": {},
   "outputs": [],
   "source": []
  }
 ],
 "metadata": {
  "kernelspec": {
   "display_name": "Python 3 (ipykernel)",
   "language": "python",
   "name": "python3"
  },
  "language_info": {
   "codemirror_mode": {
    "name": "ipython",
    "version": 3
   },
   "file_extension": ".py",
   "mimetype": "text/x-python",
   "name": "python",
   "nbconvert_exporter": "python",
   "pygments_lexer": "ipython3",
   "version": "3.11.7"
  }
 },
 "nbformat": 4,
 "nbformat_minor": 5
}
